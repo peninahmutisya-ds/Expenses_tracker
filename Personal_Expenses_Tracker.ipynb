{
 "cells": [
  {
   "cell_type": "markdown",
   "id": "95358798-97a7-422e-bd09-699aee3ced51",
   "metadata": {},
   "source": [
    "# Personal Expenses Tracker"
   ]
  },
  {
   "cell_type": "markdown",
   "id": "760e8265-25d0-4dc9-bcf5-f59537e4b021",
   "metadata": {},
   "source": [
    "## What are we tracking????"
   ]
  },
  {
   "cell_type": "markdown",
   "id": "c967ed87-5008-4e3c-ad00-d9bff7bd7ad8",
   "metadata": {},
   "source": [
    "### Create Variables"
   ]
  },
  {
   "cell_type": "code",
   "execution_count": 1,
   "id": "514e0685-2f3e-437f-aaa8-aa65d3deac37",
   "metadata": {},
   "outputs": [],
   "source": [
    "user = \"Jimmy\" # str\n",
    "current_month = 'August 2025' # str\n",
    "currency = '$' # str\n",
    "budget = 500.00 # float\n",
    "num_days_in_month = 31 # int\n",
    "is_budget_set = True # Boolean"
   ]
  },
  {
   "cell_type": "code",
   "execution_count": 2,
   "id": "4e21ac12-e7b2-4221-b6ac-96c313814935",
   "metadata": {},
   "outputs": [
    {
     "name": "stdout",
     "output_type": "stream",
     "text": [
      "Hello Jimmy\n"
     ]
    }
   ],
   "source": [
    "print('Hello', user)"
   ]
  },
  {
   "cell_type": "code",
   "execution_count": 3,
   "id": "b7435f7a-3255-409f-8b52-3aba7375f184",
   "metadata": {},
   "outputs": [
    {
     "name": "stdout",
     "output_type": "stream",
     "text": [
      "Budget for August 2025 : 500.0\n"
     ]
    }
   ],
   "source": [
    "print('Budget for', current_month, ':', budget)"
   ]
  },
  {
   "cell_type": "markdown",
   "id": "fa303ee4-edd7-4a41-8022-a146af86b6db",
   "metadata": {},
   "source": [
    "### A single expense"
   ]
  },
  {
   "cell_type": "code",
   "execution_count": 4,
   "id": "2d28d1f0-7c7a-4b11-83a6-a60b916a7a5c",
   "metadata": {},
   "outputs": [],
   "source": [
    "item = 'Rent'\n",
    "amount = 200.00\n",
    "category = 'Housing'\n",
    "is_necessary = True"
   ]
  },
  {
   "cell_type": "code",
   "execution_count": 5,
   "id": "9d4efa79-846e-4b5c-9f82-5ebbb3173c3f",
   "metadata": {},
   "outputs": [
    {
     "data": {
      "text/plain": [
       "300.0"
      ]
     },
     "execution_count": 5,
     "metadata": {},
     "output_type": "execute_result"
    }
   ],
   "source": [
    "closing_balance = budget - amount\n",
    "closing_balance "
   ]
  },
  {
   "cell_type": "code",
   "execution_count": 17,
   "id": "07b3e14c-0b4d-4fe6-8962-775d2b822e12",
   "metadata": {},
   "outputs": [
    {
     "name": "stdout",
     "output_type": "stream",
     "text": [
      "===================================\n",
      "       Expenses Tracker\n",
      "===================================\n",
      "Owner                 Jimmy\n",
      "Period                August 2025\n",
      "-----------------------------------\n",
      "Currency              $\n",
      "Budget                500.0\n",
      "Amount Spent          200.0\n",
      "-----------------------------------\n",
      "Balance               300.0\n",
      "Transactions          1\n",
      "===================================\n"
     ]
    }
   ],
   "source": [
    "#creating a small expense dashboard\n",
    "print(\"=\" * 35)\n",
    "print(\"       Expenses Tracker\")\n",
    "print(\"=\" * 35)\n",
    "print(\"Owner\",'               ',user)\n",
    "print(\"Period\",'              ',current_month)\n",
    "print(\"-\" * 35)\n",
    "print(\"Currency\",'            ',currency)\n",
    "print(\"Budget\",'              ',budget)\n",
    "print(\"Amount Spent\",'        ',amount)\n",
    "print(\"-\" * 35)\n",
    "print(\"Balance\",'             ',closing_balance)\n",
    "print(\"Transactions\",'        ',1)\n",
    "print(\"=\" * 35)"
   ]
  },
  {
   "cell_type": "code",
   "execution_count": 20,
   "id": "cf46bd0f-4c5c-44ad-9ee6-3cf356e328d8",
   "metadata": {
    "scrolled": true
   },
   "outputs": [
    {
     "data": {
      "text/plain": [
       "str"
      ]
     },
     "execution_count": 20,
     "metadata": {},
     "output_type": "execute_result"
    }
   ],
   "source": [
    "item = 'Rent'"
   ]
  },
  {
   "cell_type": "code",
   "execution_count": 21,
   "id": "6da3ca38-ebf2-4a90-9a79-fd67da1a7395",
   "metadata": {},
   "outputs": [],
   "source": [
    "items = ['Rent', 'Electricity', 'Clothes', 'data bundle', 'KFC', 'Netflix']\n",
    "prices = [200.00, 40.00, 50.00, 20, 10, 15]\n",
    "categories = ['Housing', 'Utility', 'Basic', 'Utility', 'Food', 'Entertainment']\n",
    "necessary = [True, True, True, True, False, False]"
   ]
  },
  {
   "cell_type": "code",
   "execution_count": 28,
   "id": "3d86e3f8-b5eb-4cd4-a71c-d7715aab18b8",
   "metadata": {},
   "outputs": [
    {
     "data": {
      "text/plain": [
       "[200.0, 40.0, 50.0, 20, 10, 15]"
      ]
     },
     "execution_count": 28,
     "metadata": {},
     "output_type": "execute_result"
    }
   ],
   "source": [
    "prices"
   ]
  },
  {
   "cell_type": "code",
   "execution_count": 29,
   "id": "86b03f9c-e110-42ad-b7e8-076a82f5b184",
   "metadata": {},
   "outputs": [
    {
     "data": {
      "text/plain": [
       "335.0"
      ]
     },
     "execution_count": 29,
     "metadata": {},
     "output_type": "execute_result"
    }
   ],
   "source": [
    "prices[0] + prices[1] + prices[2] + prices[3] + prices[4] + prices[5]"
   ]
  },
  {
   "cell_type": "code",
   "execution_count": 36,
   "id": "f069dc0e-cadd-4454-9f17-6db27c4f366a",
   "metadata": {},
   "outputs": [
    {
     "name": "stdout",
     "output_type": "stream",
     "text": [
      "335.0\n"
     ]
    }
   ],
   "source": [
    "total_expenses = sum(prices)\n",
    "print(total_expenses)"
   ]
  },
  {
   "cell_type": "code",
   "execution_count": 37,
   "id": "ba24b8a4-64d3-437e-8eac-923d78c95330",
   "metadata": {},
   "outputs": [
    {
     "data": {
      "text/plain": [
       "165.0"
      ]
     },
     "execution_count": 37,
     "metadata": {},
     "output_type": "execute_result"
    }
   ],
   "source": [
    "balance = budget - total_expences\n",
    "balance"
   ]
  },
  {
   "cell_type": "code",
   "execution_count": 38,
   "id": "14ed3303-91d0-46e4-a9e6-b7768c3efda8",
   "metadata": {},
   "outputs": [
    {
     "data": {
      "text/plain": [
       "6"
      ]
     },
     "execution_count": 38,
     "metadata": {},
     "output_type": "execute_result"
    }
   ],
   "source": [
    "num_of_items = len(items)\n",
    "num_of_items"
   ]
  },
  {
   "cell_type": "code",
   "execution_count": 44,
   "id": "ae46c6fb-4e8d-4d76-912e-ddb7219d6290",
   "metadata": {},
   "outputs": [
    {
     "name": "stdout",
     "output_type": "stream",
     "text": [
      "===================================\n",
      "        Expenses Tracker\n",
      "===================================\n",
      "Owner                 Jimmy\n",
      "Period                August 2025\n",
      "-----------------------------------\n",
      "Currency              $\n",
      "Starting Balance      500.0\n",
      "Total Expences        335.0\n",
      "-----------------------------------\n",
      "Closing Balance       165.0\n",
      "Transactions          6\n",
      "===================================\n",
      "       See you next month\n",
      "===================================\n"
     ]
    }
   ],
   "source": [
    "print(\"=\" * 35)\n",
    "print(\"        Expenses Tracker\")\n",
    "print(\"=\" * 35)\n",
    "print(\"Owner\",'               ',user)\n",
    "print(\"Period\", '              ',current_month)\n",
    "print('-' * 35)\n",
    "print(\"Currency\", '            ',currency)\n",
    "print(\"Starting Balance\", '    ',budget)\n",
    "print(\"Total Expences\", '      ',total_expences)\n",
    "print('-' * 35)\n",
    "print(\"Closing Balance\", '     ', balance)\n",
    "print(\"Transactions\", '        ',num_of_items)\n",
    "print(\"=\" * 35)\n",
    "print(\"       See you next month\")\n",
    "print(\"=\" * 35)"
   ]
  },
  {
   "cell_type": "code",
   "execution_count": null,
   "id": "06d57e2b-a20a-4635-b84f-2207894bf731",
   "metadata": {},
   "outputs": [],
   "source": []
  },
  {
   "cell_type": "code",
   "execution_count": null,
   "id": "c877bf11-1a68-4ca3-9575-b60a32848821",
   "metadata": {},
   "outputs": [],
   "source": []
  },
  {
   "cell_type": "code",
   "execution_count": null,
   "id": "60c3c926-a0be-48d7-8b61-ed520a7b2641",
   "metadata": {},
   "outputs": [],
   "source": []
  },
  {
   "cell_type": "code",
   "execution_count": null,
   "id": "2bf3ab24-c0ce-463c-bd05-33d1061e1070",
   "metadata": {},
   "outputs": [],
   "source": []
  },
  {
   "cell_type": "code",
   "execution_count": null,
   "id": "d122e945-1ef0-40cc-904f-0dcac39710c5",
   "metadata": {},
   "outputs": [],
   "source": []
  },
  {
   "cell_type": "code",
   "execution_count": null,
   "id": "4758531a-6a4b-472d-a3c8-8228eecad5bc",
   "metadata": {},
   "outputs": [],
   "source": []
  },
  {
   "cell_type": "code",
   "execution_count": null,
   "id": "974d3f64-ab54-4a7a-8643-ebbaf5c7dfe6",
   "metadata": {},
   "outputs": [],
   "source": []
  }
 ],
 "metadata": {
  "kernelspec": {
   "display_name": "Python 3 (ipykernel)",
   "language": "python",
   "name": "python3"
  },
  "language_info": {
   "codemirror_mode": {
    "name": "ipython",
    "version": 3
   },
   "file_extension": ".py",
   "mimetype": "text/x-python",
   "name": "python",
   "nbconvert_exporter": "python",
   "pygments_lexer": "ipython3",
   "version": "3.13.5"
  }
 },
 "nbformat": 4,
 "nbformat_minor": 5
}
